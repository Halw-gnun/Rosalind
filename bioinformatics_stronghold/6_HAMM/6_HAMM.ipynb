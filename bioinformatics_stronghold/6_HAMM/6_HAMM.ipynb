{
 "cells": [
  {
   "cell_type": "code",
   "execution_count": 21,
   "metadata": {},
   "outputs": [
    {
     "name": "stdout",
     "output_type": "stream",
     "text": [
      "454\n"
     ]
    }
   ],
   "source": [
    "input_file = open(\"input/rosalind_hamm.txt\", \"r\")\n",
    "strands = input_file.read().strip(\"\\n\").split()\n",
    "input_file.close()\n",
    "\n",
    "miss = 0\n",
    "\n",
    "for i in range(len(strands[0])):\n",
    "    if strands[0][i] != strands[1][i]:\n",
    "        miss += 1\n",
    "\n",
    "print(miss)\n",
    "\n",
    "output = open(\"output/miss.txt\", \"w\") \n",
    "output.write(str(miss)) \n",
    "output.close() "
   ]
  },
  {
   "cell_type": "code",
   "execution_count": null,
   "metadata": {},
   "outputs": [],
   "source": []
  }
 ],
 "metadata": {
  "kernelspec": {
   "display_name": "Python 3",
   "language": "python",
   "name": "python3"
  },
  "language_info": {
   "codemirror_mode": {
    "name": "ipython",
    "version": 3
   },
   "file_extension": ".py",
   "mimetype": "text/x-python",
   "name": "python",
   "nbconvert_exporter": "python",
   "pygments_lexer": "ipython3",
   "version": "3.7.1"
  }
 },
 "nbformat": 4,
 "nbformat_minor": 2
}
