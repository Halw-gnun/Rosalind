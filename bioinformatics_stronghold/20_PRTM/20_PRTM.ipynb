{
 "cells": [
  {
   "cell_type": "code",
   "execution_count": 4,
   "metadata": {},
   "outputs": [],
   "source": [
    "with open(\"input/rosalind_prtm.txt\") as input_file:\n",
    "    string = input_file.read().strip(\"\\n\")\n",
    "    \n",
    "def weight(string):\n",
    "    mass = 0\n",
    "    mass_table = {\"A\" : 71.03711, \"C\" : 103.00919, \"D\" : 115.02694, \"E\" : 129.04259,\n",
    "                            \"F\" : 147.06841, \"G\" : 57.02146, \"H\" : 137.05891, \"I\" : 113.08406,\n",
    "                            \"K\" : 128.09496, \"L\" : 113.08406, \"M\" : 131.04049, \"N\" : 114.04293,\n",
    "                            \"P\" : 97.05276, \"Q\" : 128.05858, \"R\" : 156.10111, \"S\" : 87.03203,\n",
    "                            \"T\" : 101.04768, \"V\" : 99.06841, \"W\" : 186.07931, \"Y\" : 163.06333}\n",
    "    for aa in string:\n",
    "        for letter, weight in mass_table.items():\n",
    "            if aa == letter:\n",
    "                mass += weight\n",
    "    return str(mass)\n",
    "    \n",
    "with open(\"output/mass.txt\", \"w\") as output:\n",
    "     output.write(weight(string) + \"\\n\")\n",
    "        "
   ]
  },
  {
   "cell_type": "code",
   "execution_count": null,
   "metadata": {},
   "outputs": [],
   "source": []
  }
 ],
 "metadata": {
  "kernelspec": {
   "display_name": "Python 3",
   "language": "python",
   "name": "python3"
  },
  "language_info": {
   "codemirror_mode": {
    "name": "ipython",
    "version": 3
   },
   "file_extension": ".py",
   "mimetype": "text/x-python",
   "name": "python",
   "nbconvert_exporter": "python",
   "pygments_lexer": "ipython3",
   "version": "3.7.1"
  }
 },
 "nbformat": 4,
 "nbformat_minor": 2
}
