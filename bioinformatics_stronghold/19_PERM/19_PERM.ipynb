{
 "cells": [
  {
   "cell_type": "code",
   "execution_count": 15,
   "metadata": {},
   "outputs": [],
   "source": [
    "with open(\"input/rosalind_perm.txt\") as input_file:\n",
    "    nr = int(input_file.read().strip(\"\\n\"))\n",
    "\n",
    "def all_perms(elements):\n",
    "    if len(elements) <=1:\n",
    "        yield elements\n",
    "    else:\n",
    "        for perm in all_perms(elements[1:]):\n",
    "            for i in range(len(elements)):\n",
    "                # nb elements[0:1] works in both string and list contexts\n",
    "                yield perm[:i] + elements[0:1] + perm[i:]\n",
    "        \n",
    "def combs(nr):\n",
    "    seq = []\n",
    "    for i in range(1, nr+1):\n",
    "        seq.append(i)\n",
    "    combinations = []\n",
    "    for count, combination in enumerate(all_perms(seq)):\n",
    "        combinations.append(combination)\n",
    "    return(str(count+1), combinations)\n",
    "        \n",
    "with open(\"output/variations.txt\", \"w\") as output:\n",
    "    output.write(combs(nr)[0] + \"\\n\") \n",
    "    for comb in combs(nr)[1]:\n",
    "            output.write(\" \".join(map(str, comb)) + \"\\n\") \n",
    "            "
   ]
  },
  {
   "cell_type": "code",
   "execution_count": null,
   "metadata": {},
   "outputs": [],
   "source": []
  }
 ],
 "metadata": {
  "kernelspec": {
   "display_name": "Python 3",
   "language": "python",
   "name": "python3"
  },
  "language_info": {
   "codemirror_mode": {
    "name": "ipython",
    "version": 3
   },
   "file_extension": ".py",
   "mimetype": "text/x-python",
   "name": "python",
   "nbconvert_exporter": "python",
   "pygments_lexer": "ipython3",
   "version": "3.7.1"
  }
 },
 "nbformat": 4,
 "nbformat_minor": 2
}
