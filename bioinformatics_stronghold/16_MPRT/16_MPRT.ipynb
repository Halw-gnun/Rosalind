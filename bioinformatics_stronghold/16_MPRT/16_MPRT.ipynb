{
 "cells": [
  {
   "cell_type": "code",
   "execution_count": 49,
   "metadata": {},
   "outputs": [],
   "source": [
    "with open(\"input/rosalind_mprt.txt\") as input_file:\n",
    "    access_ids = input_file.read().strip(\"\\n\").split()\n",
    "\n",
    "#Returns protein sequence for given ID\n",
    "def fetch_fasta(uniprot_id):\n",
    "    import urllib.request\n",
    "    url = \"http://www.uniprot.org/uniprot/\" + uniprot_id + \".fasta\"\n",
    "    req = urllib.request.Request(url)\n",
    "    with urllib.request.urlopen(req) as response:\n",
    "        return ''.join(response.read().decode('utf-8').split('\\n')[1:])\n",
    "\n",
    "#Returns possition for all N-glycosylation motifs for given list of ID:s\n",
    "def nglyco_loactions(access_ids):\n",
    "    protein_dict = {}\n",
    "    for protein in access_ids:\n",
    "        possitions = []\n",
    "        seq = fetch_fasta(protein)\n",
    "        for pos in range(len(seq)-3):\n",
    "            if seq[pos] == \"N\" and seq[pos+1] != \"P\" and seq[pos+3] != \"P\" and (seq[pos+2] == \"S\" or seq[pos+2] == \"T\"):\n",
    "                possitions.append(str(pos+1))\n",
    "        if len(possitions) > 0:\n",
    "            protein_dict[protein] = possitions\n",
    "    return protein_dict\n",
    "\n",
    "with open(\"output/locations.txt\", \"w\") as output:\n",
    "    for key, value in nglyco_loactions(access_ids).items():\n",
    "        output.write(key + \"\\n\" + \" \".join(value) + \"\\n\")           \n"
   ]
  },
  {
   "cell_type": "code",
   "execution_count": null,
   "metadata": {},
   "outputs": [],
   "source": []
  }
 ],
 "metadata": {
  "kernelspec": {
   "display_name": "Python 3",
   "language": "python",
   "name": "python3"
  },
  "language_info": {
   "codemirror_mode": {
    "name": "ipython",
    "version": 3
   },
   "file_extension": ".py",
   "mimetype": "text/x-python",
   "name": "python",
   "nbconvert_exporter": "python",
   "pygments_lexer": "ipython3",
   "version": "3.7.1"
  }
 },
 "nbformat": 4,
 "nbformat_minor": 2
}
