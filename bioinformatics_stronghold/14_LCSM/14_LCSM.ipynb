{
 "cells": [
  {
   "cell_type": "code",
   "execution_count": 70,
   "metadata": {},
   "outputs": [
    {
     "name": "stdout",
     "output_type": "stream",
     "text": [
      "ACTCGTTGTTTGTGCGGAACGTATACGTGACCTACTGCAAATTCGACCTCCGAGCACCGCCAGCTGGAGCTGATGGAACGGTCCCTTAGCTTTGGCCCGCTCGCCATGCTGCGGTCATTGATATACTCTCTCCCCT\n",
      "\n"
     ]
    }
   ],
   "source": [
    "input_file = open(\"input/rosalind_lcsm.txt\", \"r\")\n",
    "\n",
    "fasta_dict = {}\n",
    "name = ''\n",
    "\n",
    "#Create dict from fasta.text with name of DNA string as index, and string composition as value\n",
    "for line in input_file:\n",
    "    if line.startswith('>'):\n",
    "        name = line[1:-1]\n",
    "        fasta_dict[name] = \"\"\n",
    "    else:\n",
    "        fasta_dict[name] += line.strip()\n",
    "input_file.close()\n",
    "\n",
    "\n",
    "#Return the first detected longest common substring\n",
    "def longest_common(fasta_dict):\n",
    "    seqs = fasta_dict.values()\n",
    "    shortest = min(seqs)\n",
    "    for i in range(len(shortest)):\n",
    "        lenght = len(shortest)-i\n",
    "        for start in range(len(shortest)):\n",
    "            stop = start+lenght\n",
    "            if stop > len(shortest):\n",
    "                break\n",
    "            sub = shortest[start:stop]\n",
    "            if all(seq.find(sub) >= 0  for seq in seqs):\n",
    "                return(sub)    \n",
    "\n",
    "substring = longest_common(fasta_dict) + \"\\n\"\n",
    "print(substring)\n",
    "\n",
    "output = open(\"output/substring.txt\", \"w\") \n",
    "output.write(substring) \n",
    "output.close()\n"
   ]
  },
  {
   "cell_type": "code",
   "execution_count": null,
   "metadata": {},
   "outputs": [],
   "source": []
  }
 ],
 "metadata": {
  "kernelspec": {
   "display_name": "Python 3",
   "language": "python",
   "name": "python3"
  },
  "language_info": {
   "codemirror_mode": {
    "name": "ipython",
    "version": 3
   },
   "file_extension": ".py",
   "mimetype": "text/x-python",
   "name": "python",
   "nbconvert_exporter": "python",
   "pygments_lexer": "ipython3",
   "version": "3.7.1"
  }
 },
 "nbformat": 4,
 "nbformat_minor": 2
}
