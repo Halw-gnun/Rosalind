{
 "cells": [
  {
   "cell_type": "code",
   "execution_count": 3,
   "metadata": {},
   "outputs": [
    {
     "name": "stdout",
     "output_type": "stream",
     "text": [
      "AAAUCCCUUCUGCAUAAGCGUCACAUACCUCUUUCUUUCCACAAAACUCUCGACGGUAUGCAAGAAAUAAGUGUGUCCGACCAUGCGGAAUCUAAUGACCUAAAAAGACACAGUUUCCGUAGUUGUAUGCAUUGUACACACGUUAGUCUCGAUGCCAGCAGAUCUGUACUUGUGUACUGCCAGACCAUUUCGAACUUUCCGCAUGAGUCUCGGGAACUGGCAUGACGGGUCGCUGUAACGUCACUCUAAUUCCAGGUUCGCUUGACCUGUAGGUCGGGAAUCGGCUCGCAUUAGAAGUAUCACUCAGCAUGCCGAGUGAUAAACGAACAGUAGUGCCACUCCCAGGAAAGUUACGGGGCACGGACGGCAAUUAAAAACGGUGAUAGAGUUUCCGAUAGUGGAUCCUUCAGGCCCGCCAAAUAGGGGACUCUCGGCUCCCGCCUGGGUACUAUCAACAGGACGGUUAAGCAGAGAUUUCCCACCAUACUUCUCAACAACGUGCUUUAGGUCGAUACAAACGGCCGCAACAGCUAAUCACCGUUAGGAAGCAGGCUGCCAGGACGUCGCGAUAGAAUAGUGAAGGGACCGAAUUGAUGUACUAAGCAUAACUCCUGUCUGACCACUAUAACAACACCCCCUGAGCAAUUAGCAAGAGUUGCAUAGCCCCAUCGCUGCGCAUUCGUCCGAGGUCCCUCCUUAACCAGAUGUUGUGUCGGAGACUGCAAGCGUUGAGUAGACUUUGAGCAUCCCGGGAACACAGCGCAAAAAAGACAAGCGUUAUGAGGUCGCCAGACGGUACAUGAGCGUCCUAAUUUUCGAACUCGGCUCGUCACGAACUAGAACGGGGACAGACCUGAGGUAUCGGCGACACGGGAAUUUAUAUUUCGGUGCAACCCGCCAGAGGGUGUUACUGACGCUCGUAAAUGUCACGA\n"
     ]
    }
   ],
   "source": [
    "input_file = open(\"input/rosalind_rna.txt\", \"r\")\n",
    "dna_string = input_file.read().strip(\"\\n\")\n",
    "input_file.close()\n",
    "\n",
    "rna_string = \"\"\n",
    "\n",
    "for i in dna_string:\n",
    "    if i == \"T\":\n",
    "        rna_string += \"U\"\n",
    "    else:\n",
    "        rna_string += i\n",
    "        \n",
    "print(rna_string)\n",
    "\n",
    "output = open(\"output/RNA.txt\", \"w\") \n",
    "output.write(rna_string) \n",
    "output.close() \n"
   ]
  },
  {
   "cell_type": "code",
   "execution_count": null,
   "metadata": {},
   "outputs": [],
   "source": []
  },
  {
   "cell_type": "code",
   "execution_count": null,
   "metadata": {},
   "outputs": [],
   "source": []
  }
 ],
 "metadata": {
  "kernelspec": {
   "display_name": "Python 3",
   "language": "python",
   "name": "python3"
  },
  "language_info": {
   "codemirror_mode": {
    "name": "ipython",
    "version": 3
   },
   "file_extension": ".py",
   "mimetype": "text/x-python",
   "name": "python",
   "nbconvert_exporter": "python",
   "pygments_lexer": "ipython3",
   "version": "3.7.1"
  }
 },
 "nbformat": 4,
 "nbformat_minor": 2
}
