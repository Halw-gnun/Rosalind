{
 "cells": [
  {
   "cell_type": "code",
   "execution_count": 57,
   "metadata": {},
   "outputs": [
    {
     "name": "stdout",
     "output_type": "stream",
     "text": [
      "{1: 1, 2: 1, 3: 6, 4: 11, 5: 41, 6: 96, 7: 301, 8: 781, 9: 2286, 10: 6191, 11: 17621, 12: 48576, 13: 136681, 14: 379561, 15: 1062966, 16: 2960771, 17: 8275601, 18: 23079456, 19: 64457461, 20: 179854741, 21: 502142046, 22: 1401415751, 23: 3912125981, 24: 10919204736, 25: 30479834641, 26: 85075858321, 27: 237475031526, 28: 662854323131, 29: 1850229480761, 30: 5164501096416, 31: 14415648500221, 32: 40238153982301, 33: 112316396483406}\n",
      "112316396483406\n"
     ]
    }
   ],
   "source": [
    "input_file = open(\"input/rosalind_fib.txt\", \"r\")\n",
    "nk = input_file.read().strip(\"\\n\").split(\" \")\n",
    "input_file.close()\n",
    "\n",
    "info = { \"months\": int(nk[0]), \"litter_pairs\": int(nk[1])}\n",
    "rabbit_pairs = {}\n",
    "\n",
    "\n",
    "for i in range(1, info[\"months\"]+1):\n",
    "    if i-2 >= 1:\n",
    "        rabbit_pairs[i] = rabbit_pairs[i-1] + info[\"litter_pairs\"]*rabbit_pairs[i-2]\n",
    "    else:\n",
    "        rabbit_pairs[i] = 1\n",
    "\n",
    "print(rabbit_pairs)\n",
    "print(rabbit_pairs[info[\"months\"]])\n",
    "\n",
    "output = open(\"output/rabbit_pairs.txt\", \"w\") \n",
    "output.write(str(rabbit_pairs[info[\"months\"]])) \n",
    "output.close() "
   ]
  },
  {
   "cell_type": "code",
   "execution_count": null,
   "metadata": {},
   "outputs": [],
   "source": []
  }
 ],
 "metadata": {
  "kernelspec": {
   "display_name": "Python 3",
   "language": "python",
   "name": "python3"
  },
  "language_info": {
   "codemirror_mode": {
    "name": "ipython",
    "version": 3
   },
   "file_extension": ".py",
   "mimetype": "text/x-python",
   "name": "python",
   "nbconvert_exporter": "python",
   "pygments_lexer": "ipython3",
   "version": "3.7.1"
  }
 },
 "nbformat": 4,
 "nbformat_minor": 2
}
