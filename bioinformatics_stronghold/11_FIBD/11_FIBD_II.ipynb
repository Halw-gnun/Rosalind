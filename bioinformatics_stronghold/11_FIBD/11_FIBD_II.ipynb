{
 "cells": [
  {
   "cell_type": "code",
   "execution_count": 71,
   "metadata": {},
   "outputs": [
    {
     "name": "stdout",
     "output_type": "stream",
     "text": [
      "1097819219651235817\n"
     ]
    }
   ],
   "source": [
    "input_file = open(\"input/rosalind_fibd.txt\", \"r\")\n",
    "n, m = input_file.read().strip(\"\\n\").split(\" \")\n",
    "input_file.close()\n",
    "\n",
    "def fib(n, m, k=1):\n",
    "    dead = [0]*m + [1]\n",
    "    pairs = [1, 1]\n",
    "    previous1, previous2 = 1, 1\n",
    "    for i in range(2, n):\n",
    "        dead.append(k*(previous2))\n",
    "        current = previous1 + k * previous2 - dead[i]\n",
    "        previous2 = previous1\n",
    "        previous1 = current\n",
    "        pairs.append(current)\n",
    "    return pairs[n-1]\n",
    "\n",
    "rabbit_pairs = fib(int(n), int(m))\n",
    "print(rabbit_pairs)\n",
    "\n",
    "output = open(\"output/rabbit_pairs.txt\", \"w\") \n",
    "output.write(str(rabbit_pairs)) \n",
    "output.close() "
   ]
  },
  {
   "cell_type": "code",
   "execution_count": null,
   "metadata": {},
   "outputs": [],
   "source": []
  }
 ],
 "metadata": {
  "kernelspec": {
   "display_name": "Python 3",
   "language": "python",
   "name": "python3"
  },
  "language_info": {
   "codemirror_mode": {
    "name": "ipython",
    "version": 3
   },
   "file_extension": ".py",
   "mimetype": "text/x-python",
   "name": "python",
   "nbconvert_exporter": "python",
   "pygments_lexer": "ipython3",
   "version": "3.7.1"
  }
 },
 "nbformat": 4,
 "nbformat_minor": 2
}
