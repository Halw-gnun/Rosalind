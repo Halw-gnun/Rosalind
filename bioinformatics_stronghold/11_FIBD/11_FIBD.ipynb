{
 "cells": [
  {
   "cell_type": "code",
   "execution_count": 73,
   "metadata": {},
   "outputs": [
    {
     "name": "stdout",
     "output_type": "stream",
     "text": [
      "1 0\n",
      "2 0\n",
      "3 0\n",
      "3 2 1 1 0\n",
      "4 1\n",
      "4 2 2 1 1\n",
      "5 0\n",
      "5 3 2 1 0\n",
      "6 1\n",
      "6 4 3 2 1\n",
      "[0, 0, 0, 0, 1, 0, 1]\n",
      "{1: 1, 2: 1, 3: 2, 4: 2, 5: 3, 6: 4}\n",
      "4\n"
     ]
    }
   ],
   "source": [
    "input_file = open(\"input/rosalind_sample.txt\", \"r\")\n",
    "nm = input_file.read().strip(\"\\n\").split(\" \")\n",
    "input_file.close()\n",
    "\n",
    "info = { \"months\": int(nm[0]), \"life_span\": int(nm[1]), \"litter_pairs\": 1}\n",
    "rabbit_pairs = {}\n",
    "\n",
    "\n",
    "dying = [0]\n",
    "old = 0\n",
    "present = 0\n",
    "for i in range(1, info[\"months\"]+1):\n",
    "    if i > info[\"life_span\"]+1:\n",
    "        old = rabbit_pairs[i-(info[\"life_span\"]+1)]\n",
    "        \n",
    "    if i > info[\"life_span\"]:\n",
    "        present = rabbit_pairs[i-(info[\"life_span\"])]\n",
    "    dying.append(present - old)\n",
    "    print(i, dying[i])\n",
    "    if i-2 >= 1:\n",
    "        rabbit_pairs[i] = rabbit_pairs[i-1] + info[\"litter_pairs\"]*(rabbit_pairs[i-2]-dying[i-1]) - dying[i]\n",
    "        print(i, rabbit_pairs[i], rabbit_pairs[i-1], info[\"litter_pairs\"]*(rabbit_pairs[i-2]-dying[i-1]), dying[i])\n",
    "    else:\n",
    "        rabbit_pairs[i] = 1\n",
    "\n",
    "print(dying)\n",
    "print(rabbit_pairs)\n",
    "print(rabbit_pairs[info[\"months\"]])\n",
    "\n",
    "output = open(\"output/rabbit_pairs.txt\", \"w\") \n",
    "output.write(str(rabbit_pairs[info[\"months\"]])) \n",
    "output.close() \n"
   ]
  },
  {
   "cell_type": "code",
   "execution_count": null,
   "metadata": {},
   "outputs": [],
   "source": [
    "\n"
   ]
  },
  {
   "cell_type": "code",
   "execution_count": null,
   "metadata": {},
   "outputs": [],
   "source": []
  }
 ],
 "metadata": {
  "kernelspec": {
   "display_name": "Python 3",
   "language": "python",
   "name": "python3"
  },
  "language_info": {
   "codemirror_mode": {
    "name": "ipython",
    "version": 3
   },
   "file_extension": ".py",
   "mimetype": "text/x-python",
   "name": "python",
   "nbconvert_exporter": "python",
   "pygments_lexer": "ipython3",
   "version": "3.7.1"
  }
 },
 "nbformat": 4,
 "nbformat_minor": 2
}
