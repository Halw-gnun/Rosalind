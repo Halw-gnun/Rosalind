{
 "cells": [
  {
   "cell_type": "code",
   "execution_count": 44,
   "metadata": {},
   "outputs": [
    {
     "name": "stdout",
     "output_type": "stream",
     "text": [
      "20 12 17 21 "
     ]
    }
   ],
   "source": [
    "for i in letters: \n",
    "    print(dna_string.count(i), end=\" \")"
   ]
  },
  {
   "cell_type": "code",
   "execution_count": 2,
   "metadata": {},
   "outputs": [
    {
     "name": "stdout",
     "output_type": "stream",
     "text": [
      "247 248 211 205\n"
     ]
    }
   ],
   "source": [
    "myfile = open(\"input/rosalind_dna.txt\")\n",
    "dna_string = myfile.read().strip(\"\\n\")\n",
    "myfile.close()\n",
    "\n",
    "count = { \"A\":0, \"C\":0, \"G\":0, \"T\":0 }\n",
    "for i in count:\n",
    "    for j in dna_string:\n",
    "        if j == i:\n",
    "            count[i] += 1\n",
    "            \n",
    "print(\" \".join(list(map(str, count.values()))))\n",
    "\n",
    "output = open(\"output/bases.txt\", \"w\") \n",
    "output.write(\" \".join(list(map(str, count.values())))) \n",
    "output.close() "
   ]
  },
  {
   "cell_type": "code",
   "execution_count": null,
   "metadata": {},
   "outputs": [],
   "source": []
  },
  {
   "cell_type": "code",
   "execution_count": null,
   "metadata": {},
   "outputs": [],
   "source": []
  }
 ],
 "metadata": {
  "kernelspec": {
   "display_name": "Python 3",
   "language": "python",
   "name": "python3"
  },
  "language_info": {
   "codemirror_mode": {
    "name": "ipython",
    "version": 3
   },
   "file_extension": ".py",
   "mimetype": "text/x-python",
   "name": "python",
   "nbconvert_exporter": "python",
   "pygments_lexer": "ipython3",
   "version": "3.7.1"
  }
 },
 "nbformat": 4,
 "nbformat_minor": 2
}
