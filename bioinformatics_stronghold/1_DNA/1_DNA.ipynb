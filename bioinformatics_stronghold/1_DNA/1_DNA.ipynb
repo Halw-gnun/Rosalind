{
 "cells": [
  {
   "cell_type": "code",
   "execution_count": 50,
   "metadata": {},
   "outputs": [
    {
     "name": "stdout",
     "output_type": "stream",
     "text": [
      "AGCTTTTCATTCTGACTGCAACGGGCAATATGTCTCTGTGTGGATTAAAAAAAGAGTGTCTGATAGCAGC\n"
     ]
    },
    {
     "data": {
      "text/plain": [
       "str"
      ]
     },
     "execution_count": 50,
     "metadata": {},
     "output_type": "execute_result"
    }
   ],
   "source": [
    "\n",
    "myfile = open(\"dna_string.txt\")\n",
    "myfile.read()\n",
    "\n",
    "dna_string = \"AGCTTTTCATTCTGACTGCAACGGGCAATATGTCTCTGTGTGGATTAAAAAAAGAGTGTCTGATAGCAGC\"\n",
    "letters = [\"A\",\"C\",\"G\",\"T\"]\n",
    "\n",
    "print(dna_string)\n",
    "type(dna_string)\n"
   ]
  },
  {
   "cell_type": "code",
   "execution_count": 53,
   "metadata": {},
   "outputs": [],
   "source": [
    "myfile = open(\"dna_string.txt\")\n",
    "file_dna_string = myfile.read()\n",
    "\n",
    "myfile.close()"
   ]
  },
  {
   "cell_type": "code",
   "execution_count": 56,
   "metadata": {},
   "outputs": [
    {
     "data": {
      "text/plain": [
       "'AGCTTTTCATTCTGACTGCAACGGGCAATATGTCTCTGTGTGGATTAAAAAAAGAGTGTCTGATAGCAGC'"
      ]
     },
     "execution_count": 56,
     "metadata": {},
     "output_type": "execute_result"
    }
   ],
   "source": [
    "file_dna_string\n",
    "file_dna_string.strip(\"\\n\")"
   ]
  },
  {
   "cell_type": "code",
   "execution_count": 49,
   "metadata": {},
   "outputs": [
    {
     "name": "stdout",
     "output_type": "stream",
     "text": [
      "AGCTTTTCATTCTGACTGCAACGGGCAATATGTCTCTGTGTGGATTAAAAAAAGAGTGTCTGATAGCAGC\n"
     ]
    }
   ],
   "source": [
    "list(dna_string)\n",
    "print(dna_string)"
   ]
  },
  {
   "cell_type": "code",
   "execution_count": 44,
   "metadata": {},
   "outputs": [
    {
     "name": "stdout",
     "output_type": "stream",
     "text": [
      "20 12 17 21 "
     ]
    }
   ],
   "source": [
    "for i in letters: \n",
    "    print(dna_string.count(i), end=\" \")"
   ]
  },
  {
   "cell_type": "code",
   "execution_count": 35,
   "metadata": {},
   "outputs": [
    {
     "name": "stdout",
     "output_type": "stream",
     "text": [
      "{'A': 20, 'C': 12, 'G': 17, 'T': 21}\n",
      "dict_values([20, 12, 17, 21])\n",
      "20 12 17 21\n"
     ]
    }
   ],
   "source": [
    "count = { \"A\":0, \"C\":0, \"G\":0, \"T\":0 }\n",
    "for i in count:\n",
    "    for j in dna_string:\n",
    "        if j == i:\n",
    "            count[i] += 1\n",
    "            \n",
    "            \n",
    "print(count)\n",
    "print(count.values())\n",
    "print(\" \".join(list(map(str, count.values()))))\n",
    "        \n",
    "\n",
    "        "
   ]
  },
  {
   "cell_type": "code",
   "execution_count": 58,
   "metadata": {},
   "outputs": [
    {
     "name": "stdout",
     "output_type": "stream",
     "text": [
      "20 12 17 21\n"
     ]
    }
   ],
   "source": [
    "myfile = open(\"dna_string.txt\")\n",
    "dna_string = myfile.read()\n",
    "dna_string.strip(\"\\n\")\n",
    "\n",
    "count = { \"A\":0, \"C\":0, \"G\":0, \"T\":0 }\n",
    "for i in count:\n",
    "    for j in dna_string:\n",
    "        if j == i:\n",
    "            count[i] += 1\n",
    "            \n",
    "print(\" \".join(list(map(str, count.values()))))\n",
    "        \n",
    "myfile.close()\n"
   ]
  },
  {
   "cell_type": "code",
   "execution_count": 2,
   "metadata": {},
   "outputs": [
    {
     "name": "stdout",
     "output_type": "stream",
     "text": [
      "247 248 211 205\n"
     ]
    },
    {
     "data": {
      "text/plain": [
       "<function dict.values>"
      ]
     },
     "execution_count": 2,
     "metadata": {},
     "output_type": "execute_result"
    }
   ],
   "source": [
    "myfile = open(\"rosalind_dna.txt\")\n",
    "dna_string = myfile.read().strip(\"\\n\")\n",
    "myfile.close()\n",
    "\n",
    "count = { \"A\":0, \"C\":0, \"G\":0, \"T\":0 }\n",
    "for i in count:\n",
    "    for j in dna_string:\n",
    "        if j == i:\n",
    "            count[i] += 1\n",
    "            \n",
    "print(\" \".join(list(map(str, count.values()))))\n"
   ]
  },
  {
   "cell_type": "code",
   "execution_count": null,
   "metadata": {},
   "outputs": [],
   "source": []
  },
  {
   "cell_type": "code",
   "execution_count": null,
   "metadata": {},
   "outputs": [],
   "source": []
  }
 ],
 "metadata": {
  "kernelspec": {
   "display_name": "Python 3",
   "language": "python",
   "name": "python3"
  },
  "language_info": {
   "codemirror_mode": {
    "name": "ipython",
    "version": 3
   },
   "file_extension": ".py",
   "mimetype": "text/x-python",
   "name": "python",
   "nbconvert_exporter": "python",
   "pygments_lexer": "ipython3",
   "version": "3.7.1"
  }
 },
 "nbformat": 4,
 "nbformat_minor": 2
}
