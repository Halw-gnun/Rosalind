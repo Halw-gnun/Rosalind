{
 "cells": [
  {
   "cell_type": "code",
   "execution_count": 1,
   "metadata": {},
   "outputs": [
    {
     "name": "stdout",
     "output_type": "stream",
     "text": [
      "TCAAGGACAGGCACCGCATGAGCCAGATTGTTGGCAAGGTACATAAATAGCTAGAGATAAAAGAATACTAACGAAGGCGTCAACTACACGAGCACCTTAAAGGCAAGCTCGGCTTTGCACAACCATGCAAAACCAGTGGCCTTAAGGAGAACTAACAAGGAAAGGGACGCATGTAGAAGCGACGCTCCCATAGCATTAACCGCCACTGCAAAACCACCCGCGAGCTACCGAGGTTGCACTGAAGTCACCCGACCAATACCCATATTGCAAGAACCAAACAAAGCTACGCAAAGCCGAAACAGCAGCTACTTCCAACCCGGGGTCTGTATGATCCAAACCCGCGATTTTAAGTCTGGGCAGGCCGCAGCAGGAACTCTCCAACTAGCAACGCACTTACAACACACAATAGTGATTATCACTCATTATGACCCCGCTATTAATGACAGGAGAAGTATGGTAATAGTGACATAAATCTGAAGGGGCTACTGCTCGAGATCTCACTTCCTAGCTTCAAACAACAATACCCTACGAAATTAGTGGACGACTGGACGGTCAAAAATAATCGGCCCAGTCATTCACTCACCAAATAACCACCAGCCCCACAAAGCAACAACGATATCTAAAGGTAGATAAGCATAAATATACCACGTGCTCAAAAGGCACAATCGAAAAATATGAGTGCCATCAGCGGTCCAAGTGCTAAAAAGCAGGAAACACTAGGAAGGGACTCTAGCGACGCGAATTACCACAAGCAAAACGGAATAATCCAAAATTGTTCTCCTATTTAACACAGGCTACCGATTAGCGGATACCTCAGTTAACCTCGTAAACAAAGAGCATCAATTGTAGACAAGAACGAGCTCACAAAATGCGTAAATCTTAACAAAGTGCGACATAAAGTTACCAATCGATTCCAGCCTATGCGGTTATATTACTAACACAGCCA\n",
      "A: 0 1 6 4 0 1 3 1 5 3 2 1 3 2 2 3 2 3 2 1 3 2 3 2 5 2 3 2 2 4 0 3 1 1 1 4 5 2 3 1 4 3 4 0 3 5 6 3 3 1 2 2 4 2 3 2 4 2 4 5 4 4 4 5 4 1 5 2 2 4 3 0 3 4 3 2 3 2 2 2 3 4 4 2 3 7 3 4 3 2 4 2 2 4 2 3 2 2 3 4 4 1 2 1 4 3 3 2 1 2 1 2 1 2 2 2 0 2 4 3 3 4 1 0 3 3 2 3 4 4 5 5 0 1 4 1 3 1 1 3 2 1 2 4 4 3 3 3 2 4 3 2 3 3 4 2 4 4 2 1 4 4 4 3 3 3 5 2 0 2 3 2 0 2 3 1 6 4 1 1 1 5 3 2 2 3 2 3 2 5 2 4 2 1 4 3 2 6 6 2 3 2 2 2 3 2 3 3 2 3 5 5 3 3 2 5 2 3 2 1 1 1 3 3 2 2 4 1 3 2 4 2 3 1 1 1 1 6 1 3 2 4 4 2 1 0 4 2 3 3 3 5 2 2 4 4 2 5 2 3 2 4 2 4 1 1 3 3 3 4 2 4 4 1 2 3 3 3 2 4 4 3 2 2 3 5 2 3 1 5 4 3 3 2 2 1 4 4 4 3 3 3 2 7 2 1 3 6 0 1 0 2 2 4 3 2 3 1 2 2 1 2 2 3 1 1 1 3 3 2 5 2 1 1 4 4 4 2 3 1 2 0 3 4 1 2 2 3 4 3 2 2 1 2 1 2 2 2 4 3 3 2 0 3 1 3 2 2 5 3 1 5 3 2 2 1 0 1 1 4 3 2 0 3 2 0 5 4 2 2 1 5 2 0 3 6 2 5 6 1 3 0 4 2 4 4 2 5 1 3 2 5 3 1 4 2 4 4 3 3 2 5 2 2 3 1 1 3 1 1 2 3 1 0 2 5 3 0 4 4 2 1 4 2 6 1 2 3 3 3 3 0 1 4 3 3 2 2 5 6 1 4 1 2 0 6 1 5 2 4 3 4 2 3 2 1 3 4 2 0 1 1 1 3 6 3 1 2 2 3 2 2 3 1 4 3 0 2 3 3 2 3 2 2 0 2 4 2 0 2 0 2 5 5 4 0 3 4 2 4 3 1 3 3 2 2 3 5 1 1 4 4 4 1 1 3 2 2 2 2 5 2 2 6 2 2 3 1 3 1 2 2 1 2 4 3 4 3 3 1 3 4 3 1 1 2 2 0 3 3 2 1 1 4 2 3 1 5 1 0 0 5 3 2 6 3 4 1 3 4 0 3 3 1 0 4 2 2 1 1 3 3 4 4 4 3 1 3 3 5 3 3 3 1 1 6 1 3 3 3 3 4 3 4 2 1 0 5 2 5 2 3 5 0 1 3 0 4 4 3 0 4 2 4 2 2 3 1 2 2 0 2 2 2 4 3 4 3 2 2 1 5 2 3 3 1 2 2 5 4 4 4 3 3 3 0 3 3 1 0 4 2 1 4 3 1 3 2 3 2 1 1 2 0 6 3 3 2 1 1 0 4 3 6 5 6 2 2 4 2 2 6 4 5 3 4 2 3 4 2 1 4 6 1 1 0 4 3 3 1 2 4 2 1 3 3 2 2 3 1 4 3 2 1 5 0 2 5 1 4 3 1 3 3 4 3 4 2 3 1 6 4 0 4 4 2 2 1 7 4 7 4 2 1 2 2 1 1 3 2 3 4 7 2 3 3 4 5 1 6 2 3 2 3 2 2 3 1 2 2 4 3 3 3 0 2 0 1 3 2 7 2 2 2 2 3 2 0 1 4 5 3 2 3 1 1 1 4 4 5 2 4 4 4 0 4 2 1 6 3 2 5 4 2 1 2 0 3 2 4 1 3 5 2 4 4 2 2 4 2 3 0 1 4 1 4 3 7 5 2 1 2 1 2 3 4 4 1 0 3 2 3 4 1 3 4 5 3 1 0 0 2 4 3 4 2 4 3 4 1 1 0 4 2 2 4 3 1 2 0 4 2 2 1 2 4 2 2 1 4 5 1 2 2 2 2 2 1 5 1 4 2 3 3 2 1 3 5 2 3 3 3 2 0 2 4\n",
      "C: 1 4 1 4 3 2 3 5 2 3 2 3 2 6 4 2 4 1 1 0 3 3 4 3 1 1 3 3 3 1 2 0 2 2 6 1 2 2 2 2 0 4 3 2 2 4 3 2 2 2 3 3 2 0 3 2 2 1 3 1 1 2 1 4 2 2 0 3 0 3 3 4 1 0 3 1 1 3 2 1 4 3 2 5 1 0 4 1 4 0 3 2 4 3 5 4 0 1 3 4 3 2 2 4 4 3 1 3 3 4 3 3 4 0 3 1 2 5 2 4 3 4 4 4 2 2 2 5 1 1 2 0 4 3 2 3 1 2 1 4 3 3 1 3 2 1 2 1 1 1 2 3 2 3 1 4 2 2 3 3 1 4 2 2 3 1 3 4 2 3 3 2 4 0 3 2 2 1 2 5 2 1 4 1 3 2 4 6 4 2 2 4 3 5 2 1 2 0 2 4 4 2 3 3 2 3 1 2 4 2 2 2 2 4 3 1 3 5 4 1 5 2 3 2 6 2 2 5 4 1 3 2 1 1 1 3 4 2 3 2 1 3 0 1 2 6 3 3 4 4 2 2 4 5 2 1 3 0 3 4 3 2 1 2 2 2 2 7 2 1 1 0 3 6 4 3 3 2 4 2 0 2 3 3 0 2 6 1 4 0 3 2 2 5 4 1 2 2 1 4 2 3 5 0 2 4 1 1 4 2 2 4 5 2 3 5 4 5 1 1 1 2 2 4 2 1 1 2 1 1 1 3 5 4 2 0 2 4 4 5 3 4 1 3 3 0 2 0 2 1 2 2 3 2 1 2 2 3 0 1 2 3 7 1 4 1 2 3 2 1 1 0 3 3 1 4 1 3 3 2 3 5 4 2 2 4 2 3 4 1 4 3 4 4 0 3 3 2 0 3 3 6 1 4 4 4 1 2 2 2 2 1 2 1 3 3 5 2 5 2 6 1 3 2 2 3 3 2 4 4 4 4 0 5 3 3 0 2 2 2 2 2 3 4 1 1 1 2 1 2 1 3 2 2 0 1 1 3 1 0 1 2 2 1 2 1 4 2 1 2 3 3 2 5 2 1 2 4 2 2 2 4 4 1 2 5 3 2 3 2 5 2 2 3 3 1 4 1 4 3 4 2 2 3 5 2 1 2 4 2 3 3 2 2 3 4 2 2 4 2 1 2 3 5 4 3 2 2 3 3 2 2 2 3 3 3 2 3 2 3 3 4 2 0 3 2 0 3 2 3 1 1 3 4 2 3 2 2 1 3 2 3 1 3 2 1 4 5 4 2 2 0 5 3 2 1 4 2 4 1 6 3 4 3 1 3 1 3 2 3 4 4 3 4 4 3 1 4 3 5 4 3 5 0 0 3 4 5 2 2 4 2 2 5 3 2 3 3 3 5 2 2 3 4 0 2 4 2 2 3 2 3 0 3 4 3 3 4 2 1 4 2 2 3 4 5 1 3 3 2 3 6 2 3 1 1 4 3 3 2 4 0 4 2 3 2 3 2 3 3 0 1 3 2 3 1 1 3 3 3 0 3 6 1 1 5 2 0 4 0 0 3 5 4 2 2 2 3 3 5 2 2 2 1 0 1 0 4 2 1 3 2 1 2 5 2 5 0 3 3 2 2 2 3 0 2 3 4 3 4 1 1 2 3 3 3 3 2 4 2 3 3 2 2 2 4 3 1 5 3 3 1 4 3 3 3 0 3 0 3 1 2 4 1 2 1 3 3 1 2 2 4 1 1 2 3 1 5 1 5 4 1 1 2 2 1 1 1 3 0 5 3 2 1 4 2 3 5 4 2 1 0 0 2 2 3 2 2 3 0 1 4 3 2 3 3 3 3 3 1 1 4 3 1 4 3 3 1 1 1 7 3 1 2 3 3 2 5 2 1 5 0 3 2 3 2 4 3 1 1 6 2 1 2 2 3 5 1 3 2 4 2 4 0 3 2 3 2 2 0 3 4 0 1 2 2 4 3 4 1 2 2 2 4 3 3 1 0 2 0 4 1 2 4 2 0 4 1 3 3 2 2 2 4 3 2 2 4 3 3 2 2 0 5 6 4 3 4 6 0 1 3 2 5 1 2 2 3 1 2 2 2 1 2 3 1 2 2 3 3 4 3 2 5 3 2\n",
      "G: 1 2 1 1 5 4 3 3 0 4 4 3 3 2 0 4 2 3 3 7 2 4 2 3 1 5 2 1 1 5 3 3 5 4 1 2 1 5 4 2 3 2 1 1 3 0 1 1 3 4 2 1 2 4 2 3 3 2 3 1 2 3 5 0 2 3 2 3 3 2 2 3 4 4 3 4 5 3 3 2 1 2 1 1 1 2 1 2 0 4 1 5 1 3 2 1 3 2 3 1 1 6 4 4 1 1 4 3 2 2 4 4 2 2 1 2 5 1 2 1 2 0 2 2 3 1 5 0 3 2 2 4 2 3 0 4 2 4 5 2 3 2 3 1 2 5 4 3 4 2 2 3 1 1 2 1 1 4 4 4 4 1 3 5 4 4 2 0 6 3 3 2 5 2 2 6 2 3 6 1 4 2 1 4 2 1 3 0 2 2 2 1 4 1 2 1 0 4 1 2 1 3 2 2 3 3 2 4 4 3 2 1 3 2 3 0 3 1 2 4 2 4 3 5 2 2 2 3 2 5 1 3 4 2 3 5 3 1 3 1 4 2 3 5 3 2 3 2 2 3 4 0 1 2 3 1 1 2 3 2 2 3 1 2 3 2 4 0 3 2 4 2 2 2 2 2 2 3 1 2 3 2 4 2 1 1 2 5 2 1 0 3 4 2 3 4 2 3 3 2 3 4 2 2 4 2 2 2 3 0 2 0 1 3 3 2 2 2 6 5 5 4 1 1 2 5 3 2 2 6 3 1 3 1 1 4 3 2 1 3 4 2 4 3 2 3 2 3 1 3 5 1 3 1 5 5 3 3 4 4 4 2 2 4 4 3 4 2 1 5 4 2 2 3 3 3 4 3 3 1 1 1 1 2 3 2 1 1 3 5 4 1 4 1 3 1 2 1 2 3 1 4 2 2 1 1 3 3 4 1 3 1 1 1 2 1 0 3 1 1 1 2 1 2 3 2 5 2 1 4 3 1 6 4 1 2 3 1 1 2 2 5 0 0 1 4 7 2 5 2 3 4 3 1 2 4 4 1 2 3 3 2 4 2 4 2 1 2 2 1 2 2 2 0 1 4 2 1 4 5 4 5 1 1 2 2 2 4 2 1 2 4 3 5 1 2 2 1 1 2 2 1 0 3 3 2 1 4 2 2 2 2 2 1 1 4 2 2 1 3 3 3 1 1 2 2 1 2 3 4 2 2 4 2 1 2 3 0 3 5 1 2 5 4 2 2 6 4 3 3 7 4 2 2 4 1 1 2 3 2 3 3 2 3 4 5 0 2 2 2 4 4 3 3 1 2 3 1 1 2 3 1 1 2 1 3 2 0 2 2 4 1 2 2 2 2 5 1 3 2 2 3 0 4 2 3 5 1 3 2 1 3 3 1 4 1 2 2 0 0 1 3 2 1 5 5 1 2 5 2 2 2 3 5 1 2 3 1 2 3 1 1 2 2 1 1 3 3 4 2 5 1 1 2 3 3 1 2 5 3 1 4 0 2 2 0 3 4 1 2 3 3 3 1 2 4 5 1 4 2 5 3 2 1 2 1 3 5 1 5 5 2 1 3 2 3 4 0 4 2 3 2 3 1 3 2 4 2 2 4 4 2 3 2 1 2 1 2 2 4 5 1 0 4 7 5 0 0 0 4 3 3 3 3 4 2 3 3 2 5 0 3 2 3 2 2 2 3 1 0 2 4 1 2 2 1 3 3 5 4 2 3 1 3 2 1 2 3 2 1 0 2 0 2 4 0 3 2 2 3 1 0 2 2 1 0 2 1 3 0 2 2 3 5 1 2 2 4 3 4 3 1 3 2 5 2 4 4 1 2 0 2 3 2 3 2 4 2 2 4 1 1 3 2 3 5 2 3 4 1 1 2 3 0 4 1 4 3 1 1 0 1 1 0 2 5 1 3 5 3 1 2 2 3 2 2 2 5 3 4 1 3 2 3 3 3 1 0 1 3 4 3 5 2 2 1 0 0 3 2 2 3 3 1 3 0 2 6 2 6 4 5 2 2 3 0 0 3 1 4 3 2 1 3 3 0 3 0 3 4 3 2 3 2 1 1 4 1 0 1 2 1 4 1 4 4 2 2 2 1 0 2 2 2 2 2 2 2 3 2 1 3 4 4 2 1\n",
      "T: 8 3 2 1 2 3 1 1 3 0 2 3 2 0 4 1 2 3 4 2 2 1 1 2 3 2 2 4 4 0 5 4 2 3 2 3 2 1 1 5 3 1 2 7 2 1 0 4 2 3 3 4 2 4 2 3 1 5 0 3 3 1 0 1 2 4 3 2 5 1 2 3 2 2 1 3 1 2 3 5 2 1 3 2 5 1 2 3 3 4 2 1 3 0 1 2 5 5 1 1 2 1 2 1 1 3 2 2 4 2 2 1 3 6 4 5 3 2 2 2 2 2 3 4 2 4 1 2 2 3 1 1 4 3 4 2 4 3 3 1 2 4 4 2 2 1 1 3 3 3 3 2 4 3 3 3 3 0 1 2 1 1 1 0 0 2 0 4 2 2 1 4 1 6 2 1 0 2 1 3 3 2 2 3 3 4 1 1 2 1 4 1 1 3 2 5 6 0 1 2 2 3 3 3 2 2 4 1 0 2 1 2 2 1 2 4 2 1 2 4 2 3 1 0 0 4 2 1 1 2 2 3 2 6 5 1 2 1 3 4 3 1 3 2 4 2 0 3 1 0 1 3 3 1 1 4 4 3 2 1 3 1 6 2 4 5 1 0 2 3 3 4 1 1 2 2 2 2 3 2 3 3 1 3 6 2 0 1 3 4 3 2 1 1 1 4 2 1 2 1 2 0 1 1 2 3 4 1 3 7 6 4 2 1 1 1 1 2 1 2 3 2 5 2 5 3 5 3 4 1 1 4 1 4 3 2 1 2 2 1 1 4 2 0 4 5 4 4 3 3 1 5 3 5 3 1 3 2 2 2 1 3 1 2 1 3 2 3 2 1 4 3 2 2 4 2 5 3 3 3 3 2 5 3 3 4 2 2 1 2 1 1 0 5 4 0 3 2 2 3 3 0 3 2 1 1 4 0 3 4 3 3 4 7 1 4 1 1 1 4 1 2 4 4 2 4 1 3 4 1 1 2 3 1 4 0 4 7 3 2 4 2 3 4 2 4 0 3 1 3 3 3 4 3 5 2 3 4 2 1 5 2 3 5 4 1 4 1 5 3 2 1 4 2 5 4 3 1 2 3 3 0 4 5 0 0 4 2 3 4 1 2 2 1 2 4 4 6 2 2 2 4 6 2 2 4 4 2 4 4 5 3 1 2 2 2 3 2 3 1 3 4 3 1 2 3 4 1 3 2 2 2 0 4 5 2 3 5 3 0 1 2 1 0 3 4 1 2 2 3 0 3 4 2 0 3 3 3 3 4 2 0 4 3 3 2 4 3 1 3 2 5 1 0 5 4 2 2 4 7 1 1 2 3 2 1 3 6 3 1 2 2 2 3 4 1 2 3 3 2 1 1 1 2 4 1 0 1 2 1 2 2 2 3 2 1 4 2 4 2 4 1 2 1 3 2 5 1 1 0 4 2 2 2 4 2 4 1 2 3 5 3 4 1 3 2 3 3 1 4 2 1 5 3 2 3 1 2 0 3 4 1 4 3 2 7 2 2 1 1 3 2 1 4 2 5 1 3 2 5 1 2 1 4 4 3 2 3 2 3 4 4 2 3 0 2 1 5 2 2 5 2 2 2 2 1 4 2 2 3 1 0 2 1 1 2 2 5 1 1 2 3 2 2 2 3 3 3 4 1 4 2 3 3 0 2 2 3 1 2 3 1 4 4 1 4 3 1 3 3 2 4 2 2 1 3 3 2 2 2 1 1 5 2 2 6 3 3 0 3 1 0 7 6 2 5 5 2 4 0 2 5 0 4 4 6 3 3 3 4 1 2 3 1 3 4 2 0 1 2 2 6 4 3 3 3 4 3 3 6 2 2 2 4 2 2 1 5 4 1 3 2 2 4 2 1 4 2 1 3 0 1 2 4 3 2 2 1 1 5 3 4 2 6 4 1 5 1 2 2 2 3 2 3 2 1 1 2 0 2 2 5 3 3 3 1 3 1 2 5 2 1 4 5 3 3 2 6 3 4 4 2 1 4 1 3 2 1 5 4 2 2 2 1 1 8 2 3 2 2 4 6 3 1 2 4 2 5 2 3 1 4 5 2 1 1 1 3 3 5 2 5 2 2 3 2 4 4 2 6 4 4 4 3 3 6 3 1 2 2 2 1 2 1 3 3\n"
     ]
    }
   ],
   "source": [
    "input_file = open(\"input/rosalind_cons.txt\", \"r\")\n",
    "\n",
    "fasta = {}\n",
    "name = ''\n",
    "\n",
    "#Create dict from fasta.text with name of DNA string as index, and string composition as value\n",
    "for line in input_file:\n",
    "    if line.startswith('>'):\n",
    "        name = line[1:-1]\n",
    "        fasta[name] = \"\"\n",
    "    else:\n",
    "        fasta[name] += line.strip()\n",
    "input_file.close()\n",
    "\n",
    "# Find length of longest inserted string\n",
    "length = 0\n",
    "for value in fasta.values():\n",
    "    if length < len(value):\n",
    "        length = len(value)\n",
    "\n",
    "# Freq of nucleotides at spec position\n",
    "profile = {\"A\": [0] * length, \"C\": [0] * length, \"G\": [0] * length, \"T\": [0] * length}\n",
    "for value in fasta.values():\n",
    "    count = 0\n",
    "    for nucleotide in value:\n",
    "        for key in profile.keys():\n",
    "            if nucleotide == key:\n",
    "                profile[key][count] += 1\n",
    "                break\n",
    "        count += 1\n",
    "\n",
    "# Find most frequent nucleotide for all positions\n",
    "consensus = \"\"\n",
    "for pos in range(length):\n",
    "    temp_value = 0\n",
    "    for key, value in profile.items():\n",
    "        if temp_value < value[pos]:\n",
    "            temp_value = value[pos]\n",
    "            temp_key = key\n",
    "    consensus += temp_key\n",
    "        \n",
    "print(consensus + '\\n' + '\\n'.join([key + \":\" + ''.join(['{:2}'.format(item) for item in value]) for key, value in profile.items()]))\n",
    "\n",
    "output = open(\"output/consensus.txt\", \"w\") \n",
    "output.write(consensus + '\\n' + '\\n'.join([key + \":\" + ''.join(['{:2}'.format(item) for item in value]) for key, value in profile.items()])) \n",
    "output.close() \n"
   ]
  },
  {
   "cell_type": "code",
   "execution_count": null,
   "metadata": {},
   "outputs": [],
   "source": []
  }
 ],
 "metadata": {
  "kernelspec": {
   "display_name": "Python 3",
   "language": "python",
   "name": "python3"
  },
  "language_info": {
   "codemirror_mode": {
    "name": "ipython",
    "version": 3
   },
   "file_extension": ".py",
   "mimetype": "text/x-python",
   "name": "python",
   "nbconvert_exporter": "python",
   "pygments_lexer": "ipython3",
   "version": "3.7.1"
  }
 },
 "nbformat": 4,
 "nbformat_minor": 2
}
