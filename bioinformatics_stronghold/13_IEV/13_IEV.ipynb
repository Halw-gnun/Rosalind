{
 "cells": [
  {
   "cell_type": "code",
   "execution_count": 39,
   "metadata": {},
   "outputs": [
    {
     "name": "stdout",
     "output_type": "stream",
     "text": [
      "157690.5 \n",
      "\n"
     ]
    }
   ],
   "source": [
    "input_file = open(\"input/rosalind_iev.txt\", \"r\")\n",
    "couples = [int(x) for x in input_file.read().strip(\"\\n\").split(\" \")]\n",
    "input_file.close()\n",
    "\n",
    "def expected_offspring(couples, offspring=2):\n",
    "    \n",
    "    probability = [1, 1, 1, 0.75, 0.5, 0]\n",
    "    expected_offspring = 0\n",
    "    for i in range(len(couples)):\n",
    "        expected_offspring += couples[i] * probability[i] * offspring\n",
    "    return expected_offspring\n",
    "\n",
    "expected = expected_offspring(couples)\n",
    "print(expected, \"\\n\")\n",
    "\n",
    "output = open(\"output/expected.txt\", \"w\") \n",
    "output.write(str(expected) + \"\\n\") \n",
    "output.close() \n"
   ]
  },
  {
   "cell_type": "code",
   "execution_count": null,
   "metadata": {},
   "outputs": [],
   "source": []
  }
 ],
 "metadata": {
  "kernelspec": {
   "display_name": "Python 3",
   "language": "python",
   "name": "python3"
  },
  "language_info": {
   "codemirror_mode": {
    "name": "ipython",
    "version": 3
   },
   "file_extension": ".py",
   "mimetype": "text/x-python",
   "name": "python",
   "nbconvert_exporter": "python",
   "pygments_lexer": "ipython3",
   "version": "3.7.1"
  }
 },
 "nbformat": 4,
 "nbformat_minor": 2
}
