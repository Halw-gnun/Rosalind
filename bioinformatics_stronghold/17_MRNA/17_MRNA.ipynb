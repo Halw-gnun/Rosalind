{
 "cells": [
  {
   "cell_type": "code",
   "execution_count": 18,
   "metadata": {},
   "outputs": [],
   "source": [
    "with open(\"input/rosalind_mrna.txt\") as input_file:\n",
    "    seq = [aa for aa in input_file.read().strip(\"\\n\")]\n",
    "\n",
    "#Return possible nr RNA sequences modulo n that may create given peptide sequence\n",
    "def rna_strings(seq, n=1000000):\n",
    "    posibilities = 1\n",
    "    codons = {'A': 4, 'C': 2, 'D': 2, 'E': 2, 'F': 2, 'G': 4, 'H': 2, 'I': 3, 'K': 2, 'L': 6, 'M': 1,\n",
    "              'N': 2, 'P': 4, 'Q': 2, 'R': 6, 'S': 6, 'T': 4, 'V': 4, 'W': 1, 'Y': 2, '-': 3}\n",
    "    for aa in seq:\n",
    "        posibilities *= codons[aa]\n",
    "    posibilities *= codons[\"-\"]\n",
    "    return str(posibilities % n)\n",
    "\n",
    "with open(\"output/modulo.txt\", \"w\") as output:\n",
    "    output.write(rna_strings(seq) + \"\\n\") \n",
    "        "
   ]
  },
  {
   "cell_type": "code",
   "execution_count": null,
   "metadata": {},
   "outputs": [],
   "source": []
  }
 ],
 "metadata": {
  "kernelspec": {
   "display_name": "Python 3",
   "language": "python",
   "name": "python3"
  },
  "language_info": {
   "codemirror_mode": {
    "name": "ipython",
    "version": 3
   },
   "file_extension": ".py",
   "mimetype": "text/x-python",
   "name": "python",
   "nbconvert_exporter": "python",
   "pygments_lexer": "ipython3",
   "version": "3.7.1"
  }
 },
 "nbformat": 4,
 "nbformat_minor": 2
}
