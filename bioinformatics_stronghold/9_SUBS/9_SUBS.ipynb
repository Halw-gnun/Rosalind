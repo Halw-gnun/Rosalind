{
 "cells": [
  {
   "cell_type": "code",
   "execution_count": 30,
   "metadata": {},
   "outputs": [
    {
     "name": "stdout",
     "output_type": "stream",
     "text": [
      "['ACTTTCATATAACGTGTCTTTCATCACTTTCATCTTTCATCCTTTCATCTTTCATGCTTTCATCTTTCATTTCTTTCATCTTTCATACACCTTTCATAAAAGTTATAGCCTTTCATCATCTTTCATTGCTTTCATTTCCTTTCATATCTTTCATACTTTCATCTTGCGTACTTTCATGTCTTTCATCGAACTTTCATCTTTCATACGACTTTCATCTTTCATCTTTCATTCCTTTCATCTTTCATCTTTCATAAGCTTTCATGTCCCTTTCATGGCCTAGTTCCACTTTCATAACTTTCATGTACTTTCATCTCTTTCATGGGGCTTTCATAACTTTCATGGCTTTCATGCTTTCATACCTCGTATACTTTCATTCTTTCATGACTTTCATGCAAGCTCTTTCATGCTTTCATTACGGACTTTCATCCTTTCATCGCTTTCATCCCTTTCATCACCTTTCATGAAACGAAACTTTCATACTTCGTGTTCTTTCTTCTTTCATCCTTTCATAAGTCTTTCATGTGACAACTTTCATCCTTTCATCACTTTCATGCTTTCATGCTTTCATCCTTTCATCTTTCATGTTCTTTCATTCTTTACCCTTTCATCTTTCATCAAACTTTCATGAAACTTTCATGCCTCCTTTCATTCTCCGCTACTTTCATGCTTTCATGTCTTTCATGTTTGGTCTTTCATCCCGCTTTCATGTCTTTCATAATTTACTTTCATCTTTCATCGACTTTCATCTCTTTCATCTTTCATCTTTCATTCTTTCATCTTTCATGCTCCTTTCATGCCTTTCATTCTTTCATCCTTTCATCACTTTCATCTTTCATCTTTCATGTTGCTTTCATCTTTCATCTTTCATATGCGCCTTTCATGAACGCTTTCATCTTTCATATCAGCTTTCATAGCTTTCATCTTTCATCTTTCATACCCTTTCATTCTGTCCCTTTCATGCTTTCATCTTTCATCCTTTCATCTT', 'CTTTCATCT']\n",
      "27 42 57 73 156 191 209 216 232 239 305 570 602 723 740 749 756 771 823 830 848 855 887 915 922 961 976\n"
     ]
    }
   ],
   "source": [
    "with open(\"input/rosalind_subs.txt\") as strings:\n",
    "    strings = strings.read().strip(\"\\n\").split()\n",
    "\n",
    "locations = \"\"\n",
    "location = \"\"\n",
    "for i in range(len(strings[0])):\n",
    "    if (i + len(strings[1]) >= len(strings[0])):\n",
    "        break\n",
    "    for j in range(len(strings[1])):\n",
    "        if strings[0][i+j] == strings[1][j]:\n",
    "            location = str(i+1) + \" \"\n",
    "        else:\n",
    "            location = \"\"\n",
    "            break\n",
    "    locations += location\n",
    "locations = locations.strip(\" \")\n",
    "\n",
    "print(locations)\n",
    "    \n",
    "output = open(\"output/loactions.txt\", \"w\") \n",
    "output.write(locations) \n",
    "output.close()\n"
   ]
  },
  {
   "cell_type": "code",
   "execution_count": null,
   "metadata": {},
   "outputs": [],
   "source": []
  }
 ],
 "metadata": {
  "kernelspec": {
   "display_name": "Python 3",
   "language": "python",
   "name": "python3"
  },
  "language_info": {
   "codemirror_mode": {
    "name": "ipython",
    "version": 3
   },
   "file_extension": ".py",
   "mimetype": "text/x-python",
   "name": "python",
   "nbconvert_exporter": "python",
   "pygments_lexer": "ipython3",
   "version": "3.7.1"
  }
 },
 "nbformat": 4,
 "nbformat_minor": 2
}
