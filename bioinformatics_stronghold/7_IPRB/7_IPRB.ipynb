{
 "cells": [
  {
   "cell_type": "code",
   "execution_count": 110,
   "metadata": {},
   "outputs": [
    {
     "name": "stdout",
     "output_type": "stream",
     "text": [
      "0.752112676056338\n"
     ]
    }
   ],
   "source": [
    "gene_type = {}\n",
    "# Open file & close after block of code\n",
    "# Put values in dict with corresponding name key\n",
    "with open(\"input/rosalind_iprb.txt\") as input_file:\n",
    "    (gene_type[\"dom\"], gene_type[\"het\"], gene_type[\"rec\"]) = input_file.read().strip(\"\\n\").split()\n",
    "\n",
    "# Turn str values into int\n",
    "# Checks total amount of animals\n",
    "total = 0\n",
    "for key, value in gene_type.items():\n",
    "    gene_type[key] = float(value)\n",
    "    total += float(value)\n",
    "\n",
    "# Probability for first pick of animal\n",
    "first_pick = {}\n",
    "for key, value in gene_type.items():\n",
    "    first_pick[key] = value/total\n",
    "\n",
    "# Probability for combinations of first and second pick\n",
    "second_pick = {}\n",
    "sec_prob = 0\n",
    "for key, value in gene_type.items():\n",
    "    for key_first, value_first in first_pick.items():\n",
    "        if key == key_first:\n",
    "            sec_prob = (value-1)/(total-1)\n",
    "        else:\n",
    "            sec_prob = (value)/(total-1)\n",
    "        second_pick[key + \" \" + key_first] = sec_prob*value_first\n",
    "\n",
    "# Sum of probability for picks resulting in at least one dominant allele\n",
    "prob_sum = 0\n",
    "for key, value in second_pick.items():\n",
    "    # Picks with 100% chance of resulting in at least one dominant allele\n",
    "    if \"dom\" in key.lower():\n",
    "        prob_sum += value\n",
    "    # Picks with 75% chance of resulting in one dominant allele\n",
    "    if \"het het\" in key.lower():\n",
    "        prob_sum += value*0.75\n",
    "    # Picks with 50% chance of resulting in one dominant allele\n",
    "    if key == \"rec het\" or key == \"het rec\":\n",
    "        prob_sum += value/2\n",
    "    \n",
    "print(prob_sum)\n",
    "\n",
    "output = open(\"output/probability.txt\", \"w\") \n",
    "output.write(str(prob_sum)) \n",
    "output.close()"
   ]
  },
  {
   "cell_type": "code",
   "execution_count": null,
   "metadata": {},
   "outputs": [],
   "source": []
  }
 ],
 "metadata": {
  "kernelspec": {
   "display_name": "Python 3",
   "language": "python",
   "name": "python3"
  },
  "language_info": {
   "codemirror_mode": {
    "name": "ipython",
    "version": 3
   },
   "file_extension": ".py",
   "mimetype": "text/x-python",
   "name": "python",
   "nbconvert_exporter": "python",
   "pygments_lexer": "ipython3",
   "version": "3.7.1"
  }
 },
 "nbformat": 4,
 "nbformat_minor": 2
}
