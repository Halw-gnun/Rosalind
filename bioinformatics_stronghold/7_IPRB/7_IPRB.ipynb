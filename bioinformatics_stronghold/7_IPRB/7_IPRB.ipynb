{
 "cells": [
  {
   "cell_type": "code",
   "execution_count": 94,
   "metadata": {},
   "outputs": [
    {
     "name": "stdout",
     "output_type": "stream",
     "text": [
      "homo_dom homo_dom 2.0\n",
      "minus\n",
      "0.2 0.3333333333333333\n",
      "homo_dom het_dom 2.0\n",
      "0.4 0.3333333333333333\n",
      "homo_dom homo_res 2.0\n",
      "0.4 0.3333333333333333\n",
      "het_dom homo_dom 2.0\n",
      "0.4 0.3333333333333333\n",
      "het_dom het_dom 2.0\n",
      "minus\n",
      "0.2 0.3333333333333333\n",
      "het_dom homo_res 2.0\n",
      "0.4 0.3333333333333333\n",
      "homo_res homo_dom 2.0\n",
      "0.4 0.3333333333333333\n",
      "homo_res het_dom 2.0\n",
      "0.4 0.3333333333333333\n",
      "homo_res homo_res 2.0\n",
      "minus\n",
      "0.2 0.3333333333333333\n",
      "homo_dom homo_dom\n",
      "homo_dom het_dom\n",
      "homo_dom homo_res\n",
      "het_dom homo_dom\n",
      "homo_res homo_dom\n",
      "0.6\n"
     ]
    },
    {
     "ename": "NameError",
     "evalue": "name 'probability' is not defined",
     "output_type": "error",
     "traceback": [
      "\u001b[0;31m---------------------------------------------------------------------------\u001b[0m",
      "\u001b[0;31mNameError\u001b[0m                                 Traceback (most recent call last)",
      "\u001b[0;32m<ipython-input-94-a0519c0d349b>\u001b[0m in \u001b[0;36m<module>\u001b[0;34m\u001b[0m\n\u001b[1;32m     41\u001b[0m \u001b[0;34m\u001b[0m\u001b[0m\n\u001b[1;32m     42\u001b[0m \u001b[0moutput\u001b[0m \u001b[0;34m=\u001b[0m \u001b[0mopen\u001b[0m\u001b[0;34m(\u001b[0m\u001b[0;34m\"output/probability.txt\"\u001b[0m\u001b[0;34m,\u001b[0m \u001b[0;34m\"w\"\u001b[0m\u001b[0;34m)\u001b[0m\u001b[0;34m\u001b[0m\u001b[0;34m\u001b[0m\u001b[0m\n\u001b[0;32m---> 43\u001b[0;31m \u001b[0moutput\u001b[0m\u001b[0;34m.\u001b[0m\u001b[0mwrite\u001b[0m\u001b[0;34m(\u001b[0m\u001b[0mstr\u001b[0m\u001b[0;34m(\u001b[0m\u001b[0mprobability\u001b[0m\u001b[0;34m)\u001b[0m\u001b[0;34m)\u001b[0m\u001b[0;34m\u001b[0m\u001b[0;34m\u001b[0m\u001b[0m\n\u001b[0m\u001b[1;32m     44\u001b[0m \u001b[0moutput\u001b[0m\u001b[0;34m.\u001b[0m\u001b[0mclose\u001b[0m\u001b[0;34m(\u001b[0m\u001b[0;34m)\u001b[0m\u001b[0;34m\u001b[0m\u001b[0;34m\u001b[0m\u001b[0m\n",
      "\u001b[0;31mNameError\u001b[0m: name 'probability' is not defined"
     ]
    }
   ],
   "source": [
    "gene_type = {}\n",
    "# Open file & close after block of code\n",
    "# Put values in dict with corresponding name key\n",
    "with open(\"input/rosalind_sample.txt\") as input_file:\n",
    "    (gene_type[\"homo_dom\"], gene_type[\"het_dom\"], gene_type[\"homo_res\"]) = input_file.read().strip(\"\\n\").split()\n",
    "\n",
    "# Turn str values into int\n",
    "# Checks total amount of animals\n",
    "total = 0\n",
    "for key, value in gene_type.items():\n",
    "    gene_type[key] = float(value)\n",
    "    total += float(value)\n",
    "\n",
    "# Probability for first pick of animal\n",
    "first_pick = {}\n",
    "for key, value in gene_type.items():\n",
    "    first_pick[key] = value/total\n",
    "\n",
    "# Probability for combinations of first and second pick\n",
    "second_pick = {}\n",
    "sec_prob = 0\n",
    "for key, value in gene_type.items():\n",
    "    for key_first, value_first in first_pick.items():\n",
    "        print(key + \" \" + key_first + \" \" + str(value))\n",
    "        if key == key_first:\n",
    "            print(\"minus\")\n",
    "            sec_prob = (value-1)/(total-1)\n",
    "        else:\n",
    "            sec_prob = (value)/(total-1)\n",
    "        print(str(sec_prob) + \" \" + str(value_first))\n",
    "        second_pick[key + \" \" + key_first] = sec_prob*value_first\n",
    "\n",
    "# Sum of probability for picks resulting in at least one dominant allele\n",
    "prob_sum = 0\n",
    "for key, value in second_pick.items():\n",
    "    if \"homo_dom\" in key.lower():\n",
    "        print(key)\n",
    "        prob_sum += value\n",
    "    \n",
    "print(prob_sum)\n",
    "\n",
    "output = open(\"output/probability.txt\", \"w\") \n",
    "output.write(str(probability)) \n",
    "output.close()"
   ]
  },
  {
   "cell_type": "code",
   "execution_count": null,
   "metadata": {},
   "outputs": [],
   "source": []
  }
 ],
 "metadata": {
  "kernelspec": {
   "display_name": "Python 3",
   "language": "python",
   "name": "python3"
  },
  "language_info": {
   "codemirror_mode": {
    "name": "ipython",
    "version": 3
   },
   "file_extension": ".py",
   "mimetype": "text/x-python",
   "name": "python",
   "nbconvert_exporter": "python",
   "pygments_lexer": "ipython3",
   "version": "3.7.1"
  }
 },
 "nbformat": 4,
 "nbformat_minor": 2
}
