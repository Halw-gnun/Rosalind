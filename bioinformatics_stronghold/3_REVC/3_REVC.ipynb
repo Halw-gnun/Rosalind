{
 "cells": [
  {
   "cell_type": "code",
   "execution_count": 4,
   "metadata": {},
   "outputs": [
    {
     "name": "stdout",
     "output_type": "stream",
     "text": [
      "ACGCCTTTAACCTGCTAAGTTGGTCTTAAGATACCATAAGTCTTGGGAGAGACGTCGTGAAGCCATTGCTAGATAACAATTATAGGTATCAAGATTGGGAAATCAAATAGGAGCCTGCCGTCCGGCTGTCTGGTAGATTCATTGTCGAGAAGGATTCCAAGTTGACAGATTGTTCAAACCGCCGCATACTCTGCAATACTATGCTAAATCTTGTAGTACATAACCATTCCCGGACTGAGCGACAACTTTGGGGAGAAACTGGGACCATAGTGACTGCTGATTCCGTGAAAAGGACAATTGTCGCGTATACTTGAAGGCCAAATCAGCTAGAGAGCTTGCCACTGATACCCTGTCACCTCGGAAATACCAGTTTATAGCAAGTCTAATCACAGTCGAGCTAACGCCTCACCTTGGAGGCTGCAAAGGCCCGATTCGATAAATACAAACCCCCTGCCGCGCTTCACTTCCGGTTAAGGATCTCGGAGATGCGGAGTAATCGTTCCACTCTCATCAAGATTAGTCCAAACAGATGCGTGTATTCTCACGAGACCAAGAGGGGGATGCGTTAGAAGAACACCGAGGTTCCAGCTGTCCGCTGTGGCATGATGAGTTGCAAAAGGTCCCTAGCATCGTATCGCATCACGCGGACTATGATCACAGCGTCCTGTTCTCGAAGGAACGGACAGCGCACCCTAGCTGCACTGACACGCTGGAATTTAACTATTTTTGTGGAAACTTTGCAGATTCATAATATCATTTCCGTAGACTGCAAACATGTCTAACGAGAAACTGTGTTACATCAAACCGTTACTCCGACACTT\n"
     ]
    }
   ],
   "source": [
    "input_file = open(\"input/rosalind_revc.txt\", \"r\")\n",
    "dna_string = input_file.read().strip(\"\\n\")\n",
    "input_file.close()\n",
    "\n",
    "comp_template = { \"A\":\"T\", \"C\":\"G\", \"G\":\"C\", \"T\":\"A\" }\n",
    "reverse_complement = \"\"\n",
    "\n",
    "for i in reversed(dna_string):\n",
    "    for j in comp_template:\n",
    "        if i == j:\n",
    "            reverse_complement += comp_template[j]\n",
    "\n",
    "print(reverse_complement)\n",
    "\n",
    "output = open(\"output/reverse_complement.txt\", \"w\") \n",
    "output.write(reverse_complement) \n",
    "output.close() \n"
   ]
  },
  {
   "cell_type": "code",
   "execution_count": null,
   "metadata": {},
   "outputs": [],
   "source": []
  }
 ],
 "metadata": {
  "kernelspec": {
   "display_name": "Python 3",
   "language": "python",
   "name": "python3"
  },
  "language_info": {
   "codemirror_mode": {
    "name": "ipython",
    "version": 3
   },
   "file_extension": ".py",
   "mimetype": "text/x-python",
   "name": "python",
   "nbconvert_exporter": "python",
   "pygments_lexer": "ipython3",
   "version": "3.7.1"
  }
 },
 "nbformat": 4,
 "nbformat_minor": 2
}
