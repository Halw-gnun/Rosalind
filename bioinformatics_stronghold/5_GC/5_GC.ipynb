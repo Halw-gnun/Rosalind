{
 "cells": [
  {
   "cell_type": "code",
   "execution_count": 62,
   "metadata": {},
   "outputs": [
    {
     "name": "stdout",
     "output_type": "stream",
     "text": [
      "{'Rosalind_6891': 51.43769968051119, 'Rosalind_7825': 48.9816700610998, 'Rosalind_8719': 50.24390243902439, 'Rosalind_2012': 50.939457202505224, 'Rosalind_1634': 49.89316239316239, 'Rosalind_1947': 50.40276179516686, 'Rosalind_6237': 49.59595959595959, 'Rosalind_0617': 48.231511254019296, 'Rosalind_9427': 48.803827751196174}\n",
      "Rosalind_6891\n",
      "51.43769968051119\n"
     ]
    }
   ],
   "source": [
    "input_file = open(\"input/rosalind_gc.txt\", \"r\")\n",
    "\n",
    "fasta = {}\n",
    "name = ''\n",
    "\n",
    "#Create dict from fasta.text with name of DNA string as index, and string composition as value\n",
    "for line in input_file:\n",
    "    if line.startswith('>'):\n",
    "        name = line[1:-1]\n",
    "        fasta[name] = \"\"\n",
    "    else:\n",
    "        fasta[name] += line.strip()\n",
    "input_file.close()\n",
    "\n",
    "content = {}\n",
    "key = \"\"\n",
    "highest = 0\n",
    "\n",
    "#Check all submitted DNA strings\n",
    "for string in fasta:\n",
    "    GC = 0.\n",
    "    total = 0.\n",
    "    \n",
    "    #Check GC content for current DNA string\n",
    "    for nucleotide in fasta[string]:\n",
    "        if nucleotide in [\"G\", \"C\"]:\n",
    "            GC += 1.\n",
    "            total += 1.\n",
    "        else:\n",
    "            total += 1.\n",
    "    content[string] = GC/total*100\n",
    "    \n",
    "    #Check if current DNA string has the highest GC content\n",
    "    if content[string] > highest:\n",
    "        highest = content[string]\n",
    "        key = string\n",
    "\n",
    "print(content)\n",
    "print(key)\n",
    "print(content[key])\n",
    "\n",
    "output = open(\"output/highest_GC.txt\", \"w\") \n",
    "output.write(key + \"\\n\" + str(content[key])) \n",
    "output.close() "
   ]
  },
  {
   "cell_type": "raw",
   "metadata": {},
   "source": []
  }
 ],
 "metadata": {
  "kernelspec": {
   "display_name": "Python 3",
   "language": "python",
   "name": "python3"
  },
  "language_info": {
   "codemirror_mode": {
    "name": "ipython",
    "version": 3
   },
   "file_extension": ".py",
   "mimetype": "text/x-python",
   "name": "python",
   "nbconvert_exporter": "python",
   "pygments_lexer": "ipython3",
   "version": "3.7.1"
  }
 },
 "nbformat": 4,
 "nbformat_minor": 2
}
