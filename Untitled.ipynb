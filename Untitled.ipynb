{
 "cells": [
  {
   "cell_type": "code",
   "execution_count": 1,
   "metadata": {},
   "outputs": [
    {
     "name": "stdout",
     "output_type": "stream",
     "text": [
      "0.568\n"
     ]
    },
    {
     "name": "stderr",
     "output_type": "stream",
     "text": [
      "/Users/djenitaibrahimi/anaconda3/lib/python3.7/site-packages/ipykernel_launcher.py:19: DeprecationWarning: `comb` is deprecated!\n",
      "Importing `comb` from scipy.misc is deprecated in scipy 1.0.0. Use `scipy.special.comb` instead.\n"
     ]
    }
   ],
   "source": [
    "# ROSALIND TASK 15 : Independent Alleles\n",
    "\n",
    "\n",
    "def predict_genotype(generation, expected_offspring, progeny_per_capita=2, probability_desired_genotype=0.25):\n",
    "    \"\"\"\n",
    "    Returns the probability of at least certain number heterozygous offsprings after certain generations\n",
    "    probability of desired genotype can be set. By default it is set to 0.25 corresponding to double heterozygous\n",
    "    \"\"\"\n",
    "    # import numpy to calculate number of combinations\n",
    "    # for not obtaining certain number heterozygous in a given generation\n",
    "    from scipy import misc\n",
    "    total_neg_probability = 0\n",
    "    \n",
    "    total_organism = progeny_per_capita ** generation\n",
    "    \n",
    "    #have to calculate probability of not obtaining a certain number of double heterozygous for each\n",
    "    #integer less than the given number\n",
    "    for specific_num_offspring in range(expected_offspring):\n",
    "        null_combination = misc.comb(total_organism, specific_num_offspring)\n",
    "        \n",
    "        #probability of getting desired genotype from given number of offsprings\n",
    "        probability_smaller_success = probability_desired_genotype ** specific_num_offspring\n",
    "        \n",
    "        #this number contains number of non double heterozygous\n",
    "        trial_offspring = total_organism - specific_num_offspring\n",
    "        \n",
    "        #probability of NOT getting desired genotype in given number of offsprings\n",
    "        probability_smaller_loss = (1-probability_desired_genotype) ** trial_offspring\n",
    "        \n",
    "        # Discrete probability of obtaining exactly specific number of offspring\n",
    "        # from total offspring in a given generation\n",
    "        tail_neg_probability = null_combination*probability_smaller_success*probability_smaller_loss\n",
    "        \n",
    "        #add up discrete probabilities for all specific number of offspring less than N\n",
    "        total_neg_probability += tail_neg_probability\n",
    "    \n",
    "    # the final result is simply the above subtracted from 1\n",
    "    # because total probability of obtaining any number of double heterozygous (even 0)\n",
    "    # from total offsprings will always be one\n",
    "    return round(1-total_neg_probability, 3)\n",
    "        \n",
    "print (predict_genotype(5,8))"
   ]
  },
  {
   "cell_type": "code",
   "execution_count": null,
   "metadata": {},
   "outputs": [],
   "source": []
  }
 ],
 "metadata": {
  "kernelspec": {
   "display_name": "Python 3",
   "language": "python",
   "name": "python3"
  },
  "language_info": {
   "codemirror_mode": {
    "name": "ipython",
    "version": 3
   },
   "file_extension": ".py",
   "mimetype": "text/x-python",
   "name": "python",
   "nbconvert_exporter": "python",
   "pygments_lexer": "ipython3",
   "version": "3.7.1"
  }
 },
 "nbformat": 4,
 "nbformat_minor": 2
}
